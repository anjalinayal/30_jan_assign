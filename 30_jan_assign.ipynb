{
 "cells": [
  {
   "cell_type": "code",
   "execution_count": 8,
   "id": "9e74c70c-e8be-408c-86d1-0677dc72e0ce",
   "metadata": {},
   "outputs": [],
   "source": [
    "#Q1\n",
    "def grade():\n",
    "    percent=int(input(\"enter percentage obtained\"))\n",
    "    if percent>90:\n",
    "        return \"Grade A\"\n",
    "    elif percent>80 and percent<=90:\n",
    "        return \"Grade B\"\n",
    "    elif percent>60 and percent<=80:\n",
    "        return \"Grade C\"\n",
    "    else:\n",
    "        return \"Grade D\""
   ]
  },
  {
   "cell_type": "code",
   "execution_count": 9,
   "id": "9cc05abd-24fe-4864-bd5e-eec9e81d5d49",
   "metadata": {},
   "outputs": [
    {
     "name": "stdin",
     "output_type": "stream",
     "text": [
      "enter percentage obtained 500\n"
     ]
    },
    {
     "data": {
      "text/plain": [
       "'Grade A'"
      ]
     },
     "execution_count": 9,
     "metadata": {},
     "output_type": "execute_result"
    }
   ],
   "source": [
    "grade()"
   ]
  },
  {
   "cell_type": "code",
   "execution_count": 10,
   "id": "8581c401-5ef5-4f6b-be7a-9ad23a7f2070",
   "metadata": {},
   "outputs": [
    {
     "name": "stdin",
     "output_type": "stream",
     "text": [
      "enter percentage obtained 70\n"
     ]
    },
    {
     "data": {
      "text/plain": [
       "'Grade C'"
      ]
     },
     "execution_count": 10,
     "metadata": {},
     "output_type": "execute_result"
    }
   ],
   "source": [
    "grade()"
   ]
  },
  {
   "cell_type": "code",
   "execution_count": 14,
   "id": "fe1012b0-bf81-4998-b118-83ac60a6de35",
   "metadata": {},
   "outputs": [],
   "source": [
    "#Q2\n",
    "def tax():\n",
    "    cp=int(input(\"enter the cost price of bike\"))\n",
    "    if cp>100000:\n",
    "        return cp*15/100 ,\"is your tax to pay\"\n",
    "    elif cp>50000 and cp>=100000:\n",
    "        return cp/10, \"is your tax to pay\"\n",
    "    else:\n",
    "        return cp/20, \"is your tax to pay\"\n",
    "    \n"
   ]
  },
  {
   "cell_type": "code",
   "execution_count": 15,
   "id": "1c47a280-5fc0-474a-bfaf-b7eddc5c51a1",
   "metadata": {},
   "outputs": [
    {
     "name": "stdin",
     "output_type": "stream",
     "text": [
      "enter the cost price of bike 50000\n"
     ]
    },
    {
     "data": {
      "text/plain": [
       "(2500.0, 'is your tax to pay')"
      ]
     },
     "execution_count": 15,
     "metadata": {},
     "output_type": "execute_result"
    }
   ],
   "source": [
    "tax()"
   ]
  },
  {
   "cell_type": "code",
   "execution_count": 16,
   "id": "d1caf366-6a63-4f34-8110-08d1b7292fda",
   "metadata": {},
   "outputs": [],
   "source": [
    "#Q3\n",
    "def monument():\n",
    "    city=input(\"enter the a city from delhi,agra and jaipur to know monumnet\")\n",
    "    city=city.lower()\n",
    "    if city==\"delhi\":\n",
    "        return \"redfort\"\n",
    "    elif city==\"agra\":\n",
    "        return \"tajmahal\"\n",
    "    elif city==\"jaipur\":\n",
    "        return \"jalmahal\"\n",
    "    else:\n",
    "        return \"invalid choice\""
   ]
  },
  {
   "cell_type": "code",
   "execution_count": 18,
   "id": "6f6e74c9-fbed-4201-92de-0c2b3fdeb602",
   "metadata": {},
   "outputs": [
    {
     "name": "stdin",
     "output_type": "stream",
     "text": [
      "enter the a city from delhi,agra and jaipur to know monumnet DELHI\n"
     ]
    },
    {
     "data": {
      "text/plain": [
       "'redfort'"
      ]
     },
     "execution_count": 18,
     "metadata": {},
     "output_type": "execute_result"
    }
   ],
   "source": [
    "monument()\n"
   ]
  },
  {
   "cell_type": "code",
   "execution_count": 5,
   "id": "4ad7e4fa-2ee8-44b0-83c0-9074eb710f63",
   "metadata": {},
   "outputs": [],
   "source": [
    "#Q4\n",
    "def count_divisibility():\n",
    "    count=0\n",
    "    num=float(input(\"enter a number\"))\n",
    "    while num>10:\n",
    "        num=num/3\n",
    "        count=count+1\n",
    "    return count"
   ]
  },
  {
   "cell_type": "code",
   "execution_count": 8,
   "id": "516c975b-2b3a-4939-9b3f-7c70e2aa9bd2",
   "metadata": {},
   "outputs": [
    {
     "name": "stdin",
     "output_type": "stream",
     "text": [
      "enter a number 40\n"
     ]
    },
    {
     "data": {
      "text/plain": [
       "2"
      ]
     },
     "execution_count": 8,
     "metadata": {},
     "output_type": "execute_result"
    }
   ],
   "source": [
    "count_divisibility()"
   ]
  },
  {
   "cell_type": "code",
   "execution_count": 1,
   "id": "48064a64-2907-49d3-8734-aa938f96f1ad",
   "metadata": {},
   "outputs": [
    {
     "data": {
      "text/plain": [
       "'loop in programming is used to iterate a piece of code multiple times there are 2 types of loops for loop and while loop\\nfor loop is used when we know know how many times the loop is goint to iterate where as while loop is useful when we are not sure about the \\nnumber of iterations and want to run a code until a condition is met which is specified in the while loop syntax\\nFor example if we want to print numbers from 1 to 100 we know the range of iteration that is 1-100 so we will use for loop \\nwhereas when we are given a number and want to find that how many times the number is going to be divided by a specific number \\nhere we dont know how many time the loop will be iterated therefore we will use the while loop'"
      ]
     },
     "execution_count": 1,
     "metadata": {},
     "output_type": "execute_result"
    }
   ],
   "source": [
    "#Q5\n",
    "'''loop in programming is used to iterate a piece of code multiple times there are 2 types of loops for loop and while loop\n",
    "for loop is used when we know know how many times the loop is goint to iterate where as while loop is useful when we are not sure about the \n",
    "number of iterations and want to run a code until a condition is met which is specified in the while loop syntax\n",
    "For example if we want to print numbers from 1 to 100 we know the range of iteration that is 1-100 so we will use for loop \n",
    "whereas when we are given a number and want to find that how many times the number is going to be divided by a specific number \n",
    "here we dont know how many time the loop will be iterated therefore we will use the while loop'''"
   ]
  },
  {
   "cell_type": "code",
   "execution_count": 3,
   "id": "3a6983ff-7e87-4c8f-96f7-249114f8b6ed",
   "metadata": {},
   "outputs": [
    {
     "name": "stdin",
     "output_type": "stream",
     "text": [
      "Enter number of rows :  4\n"
     ]
    },
    {
     "name": "stdout",
     "output_type": "stream",
     "text": [
      "* \n",
      "* * \n",
      "* * * \n",
      "* * * * \n"
     ]
    }
   ],
   "source": [
    "#Q6\n",
    "n = int(input('Enter number of rows : '))\n",
    " \n",
    "i = 1\n",
    "while i <= n :\n",
    "    j = 1\n",
    "    while j <= i:\n",
    "        print(\"*\", end = \" \")\n",
    "        j += 1\n",
    "    print()\n",
    "    i += 1"
   ]
  },
  {
   "cell_type": "code",
   "execution_count": 1,
   "id": "dacbbdad-3cdf-4f2b-a51e-40746207b387",
   "metadata": {},
   "outputs": [
    {
     "name": "stdin",
     "output_type": "stream",
     "text": [
      "Enter number of rows :  4\n"
     ]
    },
    {
     "name": "stdout",
     "output_type": "stream",
     "text": [
      "* * * * \n",
      "* * * \n",
      "* * \n",
      "* \n"
     ]
    }
   ],
   "source": [
    "n = int(input('Enter number of rows : '))\n",
    " \n",
    "i = 1\n",
    "while i <= n :\n",
    "    j = n\n",
    "    while j >= i:\n",
    "        print(\"*\", end = \" \")\n",
    "        j -= 1\n",
    "    print()\n",
    "    i += 1"
   ]
  },
  {
   "cell_type": "code",
   "execution_count": 2,
   "id": "d68d39fe-d7ec-4482-a922-1e90ba6ac4f7",
   "metadata": {},
   "outputs": [
    {
     "name": "stdin",
     "output_type": "stream",
     "text": [
      "Enter the number of rows:  4\n"
     ]
    },
    {
     "name": "stdout",
     "output_type": "stream",
     "text": [
      "   * \n",
      "  * * \n",
      " * * * \n",
      "* * * * \n"
     ]
    }
   ],
   "source": [
    "\n",
    "def pattern(n):\n",
    "   i = 1\n",
    "   while i<=n:\n",
    "      # printing stars\n",
    "      print(\" \"*(n-i) + \"* \" * i)\n",
    "      i+=1 \n",
    " \n",
    "# take inputs\n",
    "n = int(input('Enter the number of rows: '))\n",
    "\n",
    "# calling function\n",
    "pattern(n)"
   ]
  },
  {
   "cell_type": "code",
   "execution_count": 2,
   "id": "5db1af4c-1eb4-4835-b1fb-9f273a37425a",
   "metadata": {},
   "outputs": [
    {
     "name": "stdout",
     "output_type": "stream",
     "text": [
      "10\n",
      "9\n",
      "8\n",
      "7\n",
      "6\n",
      "5\n",
      "4\n",
      "3\n",
      "2\n",
      "1\n"
     ]
    }
   ],
   "source": [
    "#Q7\n",
    "n=10\n",
    "while n>=1:\n",
    "    print(n)\n",
    "    n=n-1"
   ]
  },
  {
   "cell_type": "code",
   "execution_count": null,
   "id": "0e5ffbb6-13ca-4fff-9be1-2f9a709f8ccb",
   "metadata": {},
   "outputs": [],
   "source": []
  }
 ],
 "metadata": {
  "kernelspec": {
   "display_name": "Python 3 (ipykernel)",
   "language": "python",
   "name": "python3"
  },
  "language_info": {
   "codemirror_mode": {
    "name": "ipython",
    "version": 3
   },
   "file_extension": ".py",
   "mimetype": "text/x-python",
   "name": "python",
   "nbconvert_exporter": "python",
   "pygments_lexer": "ipython3",
   "version": "3.10.6"
  }
 },
 "nbformat": 4,
 "nbformat_minor": 5
}
